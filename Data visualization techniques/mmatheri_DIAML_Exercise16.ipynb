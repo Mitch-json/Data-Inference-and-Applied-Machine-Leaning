{
 "cells": [
  {
   "cell_type": "markdown",
   "id": "d1f02803",
   "metadata": {},
   "source": [
    "# Excercise 16"
   ]
  },
  {
   "cell_type": "code",
   "execution_count": 1,
   "id": "38564c32",
   "metadata": {},
   "outputs": [],
   "source": [
    "import pandas as pd"
   ]
  },
  {
   "cell_type": "code",
   "execution_count": 2,
   "id": "4d783728",
   "metadata": {},
   "outputs": [
    {
     "name": "stdout",
     "output_type": "stream",
     "text": [
      "Location ID     1     2    3\n",
      "Product ID                  \n",
      "1            10.0   NaN  6.0\n",
      "2             5.0  22.0  NaN\n"
     ]
    }
   ],
   "source": [
    "# Define the data provided in the exercise\n",
    "data = {\n",
    "    'Product ID': [1, 1, 2, 2],\n",
    "    'Location ID': [1, 3, 1, 2],\n",
    "    'Number Sold': [10, 6, 5, 22]\n",
    "}\n",
    "\n",
    "# Create a pandas DataFrame\n",
    "df = pd.DataFrame(data)\n",
    "\n",
    "# Construct the data cube using a pivot table\n",
    "\n",
    "data_cube = df.pivot_table( index='Product ID', columns='Location ID', values='Number Sold')\n",
    "\n",
    "\n",
    "print(data_cube)\n"
   ]
  },
  {
   "cell_type": "markdown",
   "id": "e61e0d97",
   "metadata": {},
   "source": [
    "The data cube is sparse because there are data combinations of location ID and product ID that do not have values.\n",
    "\n",
    "The empty cells: \n",
    "\n",
    "                 (Location ID = 2, Product ID = 1)\n",
    "\n",
    "                 (Location ID = 3, Product ID = 2)"
   ]
  }
 ],
 "metadata": {
  "kernelspec": {
   "display_name": "Python 3",
   "language": "python",
   "name": "python3"
  },
  "language_info": {
   "codemirror_mode": {
    "name": "ipython",
    "version": 3
   },
   "file_extension": ".py",
   "mimetype": "text/x-python",
   "name": "python",
   "nbconvert_exporter": "python",
   "pygments_lexer": "ipython3",
   "version": "3.13.7"
  }
 },
 "nbformat": 4,
 "nbformat_minor": 5
}
